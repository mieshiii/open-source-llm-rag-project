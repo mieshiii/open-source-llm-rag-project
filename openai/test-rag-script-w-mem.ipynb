{
 "cells": [
  {
   "cell_type": "code",
   "execution_count": 1,
   "metadata": {},
   "outputs": [],
   "source": [
    "import os\n",
    "import streamlit as st\n",
    "from dotenv import load_dotenv\n",
    "from langchain_core.prompts import ChatPromptTemplate, MessagesPlaceholder\n",
    "from langchain.prompts import PromptTemplate\n",
    "from langchain_openai import OpenAI, OpenAIEmbeddings\n",
    "from langchain_community.document_loaders import PyPDFLoader\n",
    "from langchain_community.vectorstores import FAISS\n",
    "from langchain.chains.combine_documents import create_stuff_documents_chain\n",
    "from langchain.chains import create_retrieval_chain\n",
    "from langchain.chains import create_history_aware_retriever"
   ]
  },
  {
   "cell_type": "code",
   "execution_count": 2,
   "metadata": {},
   "outputs": [],
   "source": [
    "#fetch oai_key\n",
    "load_dotenv()\n",
    "os.environ[\"OPENAI_API_KEY\"] = os.getenv(\"oai_key\")"
   ]
  },
  {
   "cell_type": "code",
   "execution_count": 3,
   "metadata": {},
   "outputs": [],
   "source": [
    "#load data\n",
    "loader = PyPDFLoader(\"../data/MSFT_2022_Annual_Report.pdf\")\n",
    "pages = loader.load_and_split()\n",
    "#index data into vector store\n",
    "faiss_index = FAISS.from_documents(pages, OpenAIEmbeddings())\n"
   ]
  },
  {
   "cell_type": "code",
   "execution_count": 4,
   "metadata": {},
   "outputs": [],
   "source": [
    "llm = OpenAI(temperature=0.9, openai_api_key=os.environ[\"OPENAI_API_KEY\"])\n",
    "\n",
    "prompt = ChatPromptTemplate.from_template(\"\"\"Answer the following question based only on the provided context:\n",
    "\n",
    "<context>\n",
    "{context}\n",
    "</context>\n",
    "\n",
    "Question: {input}\"\"\")\n",
    "\n",
    "document_chain = create_stuff_documents_chain(llm, prompt)"
   ]
  },
  {
   "cell_type": "code",
   "execution_count": 5,
   "metadata": {},
   "outputs": [],
   "source": [
    "\n",
    "retriever = faiss_index.as_retriever()\n",
    "retrieval_chain = create_retrieval_chain(retriever, document_chain)\n"
   ]
  },
  {
   "cell_type": "code",
   "execution_count": 10,
   "metadata": {},
   "outputs": [],
   "source": [
    "\n",
    "res = retrieval_chain.invoke({\"input\": \"What is the summary of Fiscal Year 2022 Compared with Fiscal Year 2021, specially regarding SEGMENT RESULTS OF OPERATIONS figures?\"})"
   ]
  },
  {
   "cell_type": "code",
   "execution_count": 12,
   "metadata": {},
   "outputs": [
    {
     "name": "stdout",
     "output_type": "stream",
     "text": [
      "\n",
      "\n",
      "In Fiscal Year 2022, Microsoft saw an overall increase in revenue of $30.2 billion, driven by growth in all segments. This includes an increase of 18% in Productivity and Business Processes revenue, 25% in Intelligent Cloud revenue, and 10% in More Personal Computing revenue. Gross margin also increased by $19.8 billion, with a slight decrease in gross margin percentage. Operating expenses increased by $6.3 billion, driven by investments in cloud engineering, LinkedIn, Gaming, and commercial sales. Overall, operating income increased by $13.5 billion, with an increase in all segments. Current year net income and diluted EPS were positively impacted by a net tax benefit related to the transfer of intangible properties, while prior year figures were positively impacted by a net tax benefit related to the India Supreme Court decision on withholding taxes. Gross margin and operating income also included an unfavorable foreign currency impact of 2%.\n"
     ]
    }
   ],
   "source": [
    "print(res[\"answer\"])"
   ]
  },
  {
   "cell_type": "code",
   "execution_count": null,
   "metadata": {},
   "outputs": [],
   "source": []
  }
 ],
 "metadata": {
  "kernelspec": {
   "display_name": ".venv",
   "language": "python",
   "name": "python3"
  },
  "language_info": {
   "codemirror_mode": {
    "name": "ipython",
    "version": 3
   },
   "file_extension": ".py",
   "mimetype": "text/x-python",
   "name": "python",
   "nbconvert_exporter": "python",
   "pygments_lexer": "ipython3",
   "version": "3.10.12"
  }
 },
 "nbformat": 4,
 "nbformat_minor": 2
}
